{
 "cells": [
  {
   "cell_type": "markdown",
   "id": "ff798e70-1253-4010-8455-ff2e83e06aa5",
   "metadata": {},
   "source": [
    "# noe'NeveshtanStringBeDoRavesh"
   ]
  },
  {
   "cell_type": "code",
   "execution_count": 2,
   "id": "b8b01003-f338-4f8f-b280-312e356b8dab",
   "metadata": {},
   "outputs": [
    {
     "data": {
      "text/plain": [
       "26.619999999999997"
      ]
     },
     "execution_count": 2,
     "metadata": {},
     "output_type": "execute_result"
    }
   ],
   "source": [
    "testYek = 1.21 * 22 #camelCase\n",
    "testYek"
   ]
  },
  {
   "cell_type": "code",
   "execution_count": 3,
   "id": "dba72060-5882-40c1-bb83-f729d0676849",
   "metadata": {},
   "outputs": [
    {
     "data": {
      "text/plain": [
       "4"
      ]
     },
     "execution_count": 3,
     "metadata": {},
     "output_type": "execute_result"
    }
   ],
   "source": [
    "Test_do = 2 + 2 #Snake_case\n",
    "Test_do"
   ]
  },
  {
   "cell_type": "code",
   "execution_count": 4,
   "id": "e594b893-44a9-488c-883f-ec9b81c0a599",
   "metadata": {},
   "outputs": [],
   "source": [
    "myName = \"Soroosh\""
   ]
  },
  {
   "cell_type": "code",
   "execution_count": 5,
   "id": "7aa353d0-0007-4599-8939-f21358f915fe",
   "metadata": {},
   "outputs": [
    {
     "name": "stdout",
     "output_type": "stream",
     "text": [
      "Soroosh\n"
     ]
    }
   ],
   "source": [
    "print(myName)"
   ]
  },
  {
   "cell_type": "markdown",
   "id": "34f6da11-067f-4604-ba34-6f0ab3bd479c",
   "metadata": {},
   "source": [
    "# andazeMoteghayer:"
   ]
  },
  {
   "cell_type": "code",
   "execution_count": 7,
   "id": "bd94bc28-4e82-485f-8a32-080859697af1",
   "metadata": {},
   "outputs": [
    {
     "data": {
      "text/plain": [
       "7"
      ]
     },
     "execution_count": 7,
     "metadata": {},
     "output_type": "execute_result"
    }
   ],
   "source": [
    "len(myName)"
   ]
  },
  {
   "cell_type": "code",
   "execution_count": 8,
   "id": "21ac9b3c-c71c-41c7-a95f-be4272243815",
   "metadata": {},
   "outputs": [
    {
     "data": {
      "text/plain": [
       "7"
      ]
     },
     "execution_count": 8,
     "metadata": {},
     "output_type": "execute_result"
    }
   ],
   "source": [
    "len(\"soroosh\")"
   ]
  },
  {
   "cell_type": "markdown",
   "id": "55bc2b52-feb4-4e70-bcfa-29da9b4b21e2",
   "metadata": {},
   "source": [
    "# charachterHayeString"
   ]
  },
  {
   "cell_type": "markdown",
   "id": "c90fd9a2-b61d-4c9b-97f2-63d59666fe60",
   "metadata": {},
   "source": [
    "## charachter\"N\"String"
   ]
  },
  {
   "cell_type": "code",
   "execution_count": 11,
   "id": "7ebb8462-0a3a-4d98-9a55-ebc8dce0e578",
   "metadata": {},
   "outputs": [
    {
     "data": {
      "text/plain": [
       "'S'"
      ]
     },
     "execution_count": 11,
     "metadata": {},
     "output_type": "execute_result"
    }
   ],
   "source": [
    "myName[0]"
   ]
  },
  {
   "cell_type": "code",
   "execution_count": 12,
   "id": "347f0e15-0769-4c95-8192-db0ceb453c83",
   "metadata": {},
   "outputs": [
    {
     "data": {
      "text/plain": [
       "'o'"
      ]
     },
     "execution_count": 12,
     "metadata": {},
     "output_type": "execute_result"
    }
   ],
   "source": [
    "myName[1]"
   ]
  },
  {
   "cell_type": "markdown",
   "id": "74fa23d7-8a36-48c8-af44-8a33f0754057",
   "metadata": {},
   "source": [
    "## charachterAkhar"
   ]
  },
  {
   "cell_type": "code",
   "execution_count": 14,
   "id": "7989f0b9-e25e-42aa-b6e0-f43c8e9bfa62",
   "metadata": {},
   "outputs": [
    {
     "data": {
      "text/plain": [
       "'h'"
      ]
     },
     "execution_count": 14,
     "metadata": {},
     "output_type": "execute_result"
    }
   ],
   "source": [
    "myName[-1]"
   ]
  },
  {
   "cell_type": "code",
   "execution_count": 15,
   "id": "df11cdd7-6e14-4049-aab1-c6cda5c0df5a",
   "metadata": {},
   "outputs": [],
   "source": [
    "x = len(myName)"
   ]
  },
  {
   "cell_type": "code",
   "execution_count": 16,
   "id": "cb3e4aca-1885-4c94-b5dd-b9f810cda5f6",
   "metadata": {},
   "outputs": [
    {
     "data": {
      "text/plain": [
       "'h'"
      ]
     },
     "execution_count": 16,
     "metadata": {},
     "output_type": "execute_result"
    }
   ],
   "source": [
    "myName[x-1]"
   ]
  },
  {
   "cell_type": "markdown",
   "id": "b650933d-9045-49c7-b27c-2a4217d5edbb",
   "metadata": {},
   "source": [
    "### rahBehtar"
   ]
  },
  {
   "cell_type": "code",
   "execution_count": 18,
   "id": "537961dd-5a95-4eb1-bbb4-d9848a2e4f55",
   "metadata": {},
   "outputs": [
    {
     "data": {
      "text/plain": [
       "'h'"
      ]
     },
     "execution_count": 18,
     "metadata": {},
     "output_type": "execute_result"
    }
   ],
   "source": [
    "myName[len(myName)-1]"
   ]
  },
  {
   "cell_type": "markdown",
   "id": "c1655528-6588-41e1-aa7f-1d58eb99707d",
   "metadata": {},
   "source": [
    "# ghesmatiAzString"
   ]
  },
  {
   "cell_type": "code",
   "execution_count": 20,
   "id": "6a246a94-9683-4c07-97a1-447c30e73bed",
   "metadata": {},
   "outputs": [
    {
     "data": {
      "text/plain": [
       "'oroosh'"
      ]
     },
     "execution_count": 20,
     "metadata": {},
     "output_type": "execute_result"
    }
   ],
   "source": [
    "myName[1:7]"
   ]
  },
  {
   "cell_type": "code",
   "execution_count": 21,
   "id": "15e599c1-46a9-4526-9e3e-58889e549e89",
   "metadata": {},
   "outputs": [
    {
     "data": {
      "text/plain": [
       "'or'"
      ]
     },
     "execution_count": 21,
     "metadata": {},
     "output_type": "execute_result"
    }
   ],
   "source": [
    "myName[1:3]"
   ]
  },
  {
   "cell_type": "markdown",
   "id": "38a2d62b-bcb9-4441-9354-e80aceb3fcd9",
   "metadata": {},
   "source": [
    "# a'malGarHayeReyaziDarString"
   ]
  },
  {
   "cell_type": "code",
   "execution_count": 23,
   "id": "cb30f3cc-3d97-4c0f-9751-54f7775db53f",
   "metadata": {},
   "outputs": [
    {
     "data": {
      "text/plain": [
       "'Soroosh Mosallanejad'"
      ]
     },
     "execution_count": 23,
     "metadata": {},
     "output_type": "execute_result"
    }
   ],
   "source": [
    "myFamilly = \" Mosallanejad\"\n",
    "myFullName = myName + myFamilly\n",
    "myFullName"
   ]
  },
  {
   "cell_type": "markdown",
   "id": "04f401a5-fac8-41a8-ac77-ee91da3157c1",
   "metadata": {},
   "source": [
    "### adadDarString"
   ]
  },
  {
   "cell_type": "code",
   "execution_count": 25,
   "id": "f12ebb75-871e-426a-a31f-d3a528944961",
   "metadata": {},
   "outputs": [
    {
     "data": {
      "text/plain": [
       "'SorooshSoroosh'"
      ]
     },
     "execution_count": 25,
     "metadata": {},
     "output_type": "execute_result"
    }
   ],
   "source": [
    "zarbNameAdad = myName * 2\n",
    "zarbNameAdad"
   ]
  },
  {
   "cell_type": "code",
   "execution_count": 26,
   "id": "e35cd358-d42c-4007-ba45-bd5161e5cdc1",
   "metadata": {},
   "outputs": [
    {
     "name": "stdout",
     "output_type": "stream",
     "text": [
      "2\n",
      "11\n"
     ]
    }
   ],
   "source": [
    "tempint = 1\n",
    "tempstr = '1'\n",
    "print(tempint*2)\n",
    "print(tempstr*2)\n"
   ]
  },
  {
   "cell_type": "markdown",
   "id": "1b5c18e3-ab8c-401b-8bec-64fb36f9916c",
   "metadata": {},
   "source": [
    "## stringChandKhati"
   ]
  },
  {
   "cell_type": "code",
   "execution_count": 28,
   "id": "c0016ad4-f2c4-4f98-9285-95e2b1d02b93",
   "metadata": {},
   "outputs": [
    {
     "data": {
      "text/plain": [
       "'iwejfbewufeh\\nejnweiuf\\nefweubf\\neifn'"
      ]
     },
     "execution_count": 28,
     "metadata": {},
     "output_type": "execute_result"
    }
   ],
   "source": [
    "temp = \"\"\"iwejfbewufeh\n",
    "ejnweiuf\n",
    "efweubf\n",
    "eifn\"\"\"\n",
    "temp"
   ]
  },
  {
   "cell_type": "markdown",
   "id": "7d2f62d2-88e3-4600-b01d-4adb7f5c7c8a",
   "metadata": {},
   "source": [
    "## makanAvalinCharachterString"
   ]
  },
  {
   "cell_type": "code",
   "execution_count": 30,
   "id": "cce1d3a5-1a80-4ed3-8858-7c5ca11201d3",
   "metadata": {},
   "outputs": [
    {
     "data": {
      "text/plain": [
       "0"
      ]
     },
     "execution_count": 30,
     "metadata": {},
     "output_type": "execute_result"
    }
   ],
   "source": [
    "myName.find('S')"
   ]
  },
  {
   "cell_type": "code",
   "execution_count": 31,
   "id": "7999b22e-5702-4d93-975f-aaa37a1386a1",
   "metadata": {},
   "outputs": [
    {
     "data": {
      "text/plain": [
       "6"
      ]
     },
     "execution_count": 31,
     "metadata": {},
     "output_type": "execute_result"
    }
   ],
   "source": [
    "myName.find('h')"
   ]
  },
  {
   "cell_type": "markdown",
   "id": "90eda8ef-3178-4bd0-92eb-4b372111dccc",
   "metadata": {},
   "source": [
    "  ***  \n",
    "  ***"
   ]
  },
  {
   "cell_type": "markdown",
   "id": "5d32b634-f5cb-4589-972f-714ef0a5e847",
   "metadata": {},
   "source": [
    "# tamrin"
   ]
  },
  {
   "cell_type": "markdown",
   "id": "65218e9b-dbde-4b14-88c9-9e4ef2a64b21",
   "metadata": {},
   "source": [
    "## taghirStringBaStringDigarDarYekMoteghayer"
   ]
  },
  {
   "cell_type": "code",
   "execution_count": 36,
   "id": "0b01b9a7-3ce3-4ccf-94d2-98f52252a72b",
   "metadata": {},
   "outputs": [
    {
     "data": {
      "text/plain": [
       "'S'"
      ]
     },
     "execution_count": 36,
     "metadata": {},
     "output_type": "execute_result"
    }
   ],
   "source": [
    "myFullName[0]"
   ]
  },
  {
   "cell_type": "code",
   "execution_count": 37,
   "id": "b2fbe1d7-3efa-4d49-a82f-dc67a2982aaf",
   "metadata": {},
   "outputs": [],
   "source": [
    "myFriend = \"Ali\""
   ]
  },
  {
   "cell_type": "code",
   "execution_count": 38,
   "id": "dc31c04c-5676-41df-86fc-583c326d2ae0",
   "metadata": {},
   "outputs": [],
   "source": [
    "myFriendFullName = myFullName.replace(myName, myFriend)"
   ]
  },
  {
   "cell_type": "code",
   "execution_count": 39,
   "id": "9ced9fda-17e5-4342-a337-05c441830ced",
   "metadata": {},
   "outputs": [
    {
     "data": {
      "text/plain": [
       "'Ali Mosallanejad'"
      ]
     },
     "execution_count": 39,
     "metadata": {},
     "output_type": "execute_result"
    }
   ],
   "source": [
    "myFriendFullName"
   ]
  },
  {
   "cell_type": "markdown",
   "id": "a4995155-a36f-46a1-be12-784a94cb880c",
   "metadata": {},
   "source": [
    "#### kolStringHayeMarbootRoJaBeJaMikonad"
   ]
  },
  {
   "cell_type": "code",
   "execution_count": 41,
   "id": "4ee07c0f-862d-44ea-97b1-83e90bd17925",
   "metadata": {},
   "outputs": [],
   "source": [
    "myDoubleFullName = myFullName * 2"
   ]
  },
  {
   "cell_type": "code",
   "execution_count": 42,
   "id": "68beeebf-384d-4a5a-9ffb-6a6ba9604309",
   "metadata": {},
   "outputs": [],
   "source": [
    "myBrotherDoubleFullName = myDoubleFullName.replace(myName,myFriend)"
   ]
  },
  {
   "cell_type": "code",
   "execution_count": 43,
   "id": "47e9753a-1682-4fe8-9f4f-3ded93a85e0f",
   "metadata": {},
   "outputs": [
    {
     "data": {
      "text/plain": [
       "'Ali MosallanejadAli Mosallanejad'"
      ]
     },
     "execution_count": 43,
     "metadata": {},
     "output_type": "execute_result"
    }
   ],
   "source": [
    "myBrotherDoubleFullName"
   ]
  },
  {
   "cell_type": "markdown",
   "id": "e73c358b-5dbb-40f6-8939-6cec0fd76106",
   "metadata": {},
   "source": [
    "### bozorgKardanHoroof"
   ]
  },
  {
   "cell_type": "code",
   "execution_count": 45,
   "id": "40ffd5ca-e014-4833-aabb-fe14830e6875",
   "metadata": {},
   "outputs": [
    {
     "data": {
      "text/plain": [
       "'SOROOSH'"
      ]
     },
     "execution_count": 45,
     "metadata": {},
     "output_type": "execute_result"
    }
   ],
   "source": [
    "myName.upper()"
   ]
  },
  {
   "cell_type": "markdown",
   "id": "5b3096d1-53b9-4193-86af-57249d0b2045",
   "metadata": {},
   "source": [
    "### ayaHameCharachterHahoroof"
   ]
  },
  {
   "cell_type": "code",
   "execution_count": 47,
   "id": "49f7eb36-7118-47a0-8396-821390fbe3fc",
   "metadata": {},
   "outputs": [
    {
     "data": {
      "text/plain": [
       "True"
      ]
     },
     "execution_count": 47,
     "metadata": {},
     "output_type": "execute_result"
    }
   ],
   "source": [
    "myName.isalpha()"
   ]
  },
  {
   "cell_type": "code",
   "execution_count": 48,
   "id": "0559d0d1-7bac-4e50-8155-34984f9c9bda",
   "metadata": {},
   "outputs": [],
   "source": [
    "myAdress = \"pelak3\""
   ]
  },
  {
   "cell_type": "code",
   "execution_count": 49,
   "id": "75714737-68c8-4cd0-be51-6230ddf68c2d",
   "metadata": {},
   "outputs": [
    {
     "data": {
      "text/plain": [
       "False"
      ]
     },
     "execution_count": 49,
     "metadata": {},
     "output_type": "execute_result"
    }
   ],
   "source": [
    "myAdress.isalpha()"
   ]
  },
  {
   "cell_type": "markdown",
   "id": "37580bfb-ff5b-4bf1-9da7-725ef0e63c9e",
   "metadata": {},
   "source": [
    "### faseleBarAsasChiziKeNiazDarim"
   ]
  },
  {
   "cell_type": "code",
   "execution_count": 51,
   "id": "ecc0550a-e863-4b2f-983e-b07aaaed12ab",
   "metadata": {},
   "outputs": [],
   "source": [
    "myTeacherName = \"Amir hoshang hoseinpour dehkordi\""
   ]
  },
  {
   "cell_type": "code",
   "execution_count": 52,
   "id": "f968a08b-2944-4a80-ac0f-81becbf0d50a",
   "metadata": {},
   "outputs": [],
   "source": [
    "splitedTeacherName = myTeacherName.split(' ')"
   ]
  },
  {
   "cell_type": "code",
   "execution_count": 53,
   "id": "07b3f851-10b5-4999-8911-f2f7d73a47ee",
   "metadata": {},
   "outputs": [
    {
     "name": "stdout",
     "output_type": "stream",
     "text": [
      "['Amir', 'hoshang', 'hoseinpour', 'dehkordi']\n"
     ]
    }
   ],
   "source": [
    "print(splitedTeacherName)"
   ]
  },
  {
   "cell_type": "code",
   "execution_count": 54,
   "id": "d38312be-63ff-4891-ad88-f353beb9a054",
   "metadata": {},
   "outputs": [],
   "source": [
    "time = \"17:47:33\"\n",
    "splitedTime = time.split(':')"
   ]
  },
  {
   "cell_type": "code",
   "execution_count": 55,
   "id": "63537067-16ad-438b-890f-6c74bf2837ca",
   "metadata": {},
   "outputs": [
    {
     "name": "stdout",
     "output_type": "stream",
     "text": [
      "['17', '47', '33']\n"
     ]
    }
   ],
   "source": [
    "print(splitedTime)"
   ]
  },
  {
   "cell_type": "markdown",
   "id": "848adbdb-1f70-4969-8389-62901672760c",
   "metadata": {},
   "source": [
    "## komakDarAmalgarHa"
   ]
  },
  {
   "cell_type": "code",
   "execution_count": 57,
   "id": "d822302f-2bc8-4b01-8e1a-a69887a3d8b6",
   "metadata": {},
   "outputs": [
    {
     "data": {
      "text/plain": [
       "['__add__',\n",
       " '__class__',\n",
       " '__contains__',\n",
       " '__delattr__',\n",
       " '__dir__',\n",
       " '__doc__',\n",
       " '__eq__',\n",
       " '__format__',\n",
       " '__ge__',\n",
       " '__getattribute__',\n",
       " '__getitem__',\n",
       " '__getnewargs__',\n",
       " '__getstate__',\n",
       " '__gt__',\n",
       " '__hash__',\n",
       " '__init__',\n",
       " '__init_subclass__',\n",
       " '__iter__',\n",
       " '__le__',\n",
       " '__len__',\n",
       " '__lt__',\n",
       " '__mod__',\n",
       " '__mul__',\n",
       " '__ne__',\n",
       " '__new__',\n",
       " '__reduce__',\n",
       " '__reduce_ex__',\n",
       " '__repr__',\n",
       " '__rmod__',\n",
       " '__rmul__',\n",
       " '__setattr__',\n",
       " '__sizeof__',\n",
       " '__str__',\n",
       " '__subclasshook__',\n",
       " 'capitalize',\n",
       " 'casefold',\n",
       " 'center',\n",
       " 'count',\n",
       " 'encode',\n",
       " 'endswith',\n",
       " 'expandtabs',\n",
       " 'find',\n",
       " 'format',\n",
       " 'format_map',\n",
       " 'index',\n",
       " 'isalnum',\n",
       " 'isalpha',\n",
       " 'isascii',\n",
       " 'isdecimal',\n",
       " 'isdigit',\n",
       " 'isidentifier',\n",
       " 'islower',\n",
       " 'isnumeric',\n",
       " 'isprintable',\n",
       " 'isspace',\n",
       " 'istitle',\n",
       " 'isupper',\n",
       " 'join',\n",
       " 'ljust',\n",
       " 'lower',\n",
       " 'lstrip',\n",
       " 'maketrans',\n",
       " 'partition',\n",
       " 'removeprefix',\n",
       " 'removesuffix',\n",
       " 'replace',\n",
       " 'rfind',\n",
       " 'rindex',\n",
       " 'rjust',\n",
       " 'rpartition',\n",
       " 'rsplit',\n",
       " 'rstrip',\n",
       " 'split',\n",
       " 'splitlines',\n",
       " 'startswith',\n",
       " 'strip',\n",
       " 'swapcase',\n",
       " 'title',\n",
       " 'translate',\n",
       " 'upper',\n",
       " 'zfill']"
      ]
     },
     "execution_count": 57,
     "metadata": {},
     "output_type": "execute_result"
    }
   ],
   "source": [
    "dir(myName)"
   ]
  },
  {
   "cell_type": "code",
   "execution_count": 58,
   "id": "6be677be-a399-47c2-b163-10604798fe2f",
   "metadata": {},
   "outputs": [
    {
     "name": "stdout",
     "output_type": "stream",
     "text": [
      "Help on built-in function upper:\n",
      "\n",
      "upper() method of builtins.str instance\n",
      "    Return a copy of the string converted to uppercase.\n",
      "\n"
     ]
    }
   ],
   "source": [
    "help(myName.upper)"
   ]
  },
  {
   "cell_type": "markdown",
   "id": "57638533-025e-4971-aa1a-cebdf0acd5b5",
   "metadata": {},
   "source": [
    "## khatBadiVaFaseleAndazeTab"
   ]
  },
  {
   "cell_type": "code",
   "execution_count": 60,
   "id": "225b32d9-9ded-4f1f-ba24-95186427aee5",
   "metadata": {},
   "outputs": [
    {
     "name": "stdout",
     "output_type": "stream",
     "text": [
      "A\n",
      "B\tC\n"
     ]
    }
   ],
   "source": [
    "tempString = 'A\\nB\\tC'\n",
    "print(tempString)"
   ]
  },
  {
   "cell_type": "markdown",
   "id": "2f157ea9-2526-4402-8923-7432a9e66db1",
   "metadata": {},
   "source": [
    "## ifVaShart"
   ]
  },
  {
   "cell_type": "code",
   "execution_count": 62,
   "id": "e1a1681e-501f-4c76-b6f8-4a348bf1b23b",
   "metadata": {},
   "outputs": [
    {
     "name": "stdout",
     "output_type": "stream",
     "text": [
      "salam\n"
     ]
    }
   ],
   "source": [
    "if True :\n",
    "    print('salam')"
   ]
  },
  {
   "cell_type": "code",
   "execution_count": 63,
   "id": "ea9e7996-6958-443c-a855-72bea17f1bc7",
   "metadata": {},
   "outputs": [],
   "source": [
    "if False :\n",
    "    print('salam')"
   ]
  },
  {
   "cell_type": "code",
   "execution_count": 64,
   "id": "7ea45f04-38a3-43cd-8970-23bb322995e3",
   "metadata": {},
   "outputs": [
    {
     "name": "stdout",
     "output_type": "stream",
     "text": [
      "salam\n"
     ]
    }
   ],
   "source": [
    "if 3 :\n",
    "    print('salam')"
   ]
  },
  {
   "cell_type": "code",
   "execution_count": 65,
   "id": "6677fba6-2f15-4040-a590-7ab0dabba37a",
   "metadata": {},
   "outputs": [],
   "source": [
    "if 0 :\n",
    "    print('salam')"
   ]
  },
  {
   "cell_type": "code",
   "execution_count": 66,
   "id": "f19bcff1-ccfc-46a7-8884-b5c4d8c22e0f",
   "metadata": {},
   "outputs": [],
   "source": [
    "if \"\" :\n",
    "    print('salam')"
   ]
  },
  {
   "cell_type": "code",
   "execution_count": 67,
   "id": "e8d76bb5-3bb6-477b-82a8-0698224d42ee",
   "metadata": {},
   "outputs": [
    {
     "name": "stdout",
     "output_type": "stream",
     "text": [
      "salam\n"
     ]
    }
   ],
   "source": [
    "if 'soroosh' :\n",
    "    print('salam')"
   ]
  },
  {
   "cell_type": "code",
   "execution_count": 68,
   "id": "dcade60c-58d2-476f-9d89-2439a71dec6a",
   "metadata": {},
   "outputs": [
    {
     "name": "stdout",
     "output_type": "stream",
     "text": [
      "toolani\n"
     ]
    }
   ],
   "source": [
    "if len(myName) >=5 :\n",
    "    print(\"toolani\")"
   ]
  },
  {
   "cell_type": "markdown",
   "id": "996f997d-1482-42db-b996-02d99e7bd6fe",
   "metadata": {},
   "source": [
    "## else"
   ]
  },
  {
   "cell_type": "code",
   "execution_count": 70,
   "id": "18aaae2f-6d5b-402b-9cac-cb72add52656",
   "metadata": {},
   "outputs": [
    {
     "name": "stdout",
     "output_type": "stream",
     "text": [
      "kootah\n"
     ]
    }
   ],
   "source": [
    "if len(myName) >= 10 :\n",
    "    print('toolani')\n",
    "else :\n",
    "    print(\"kootah\")"
   ]
  },
  {
   "cell_type": "code",
   "execution_count": 71,
   "id": "eb3b48c9-fe95-4d2b-8096-53a4b8622602",
   "metadata": {},
   "outputs": [
    {
     "name": "stdout",
     "output_type": "stream",
     "text": [
      "toolani\n"
     ]
    }
   ],
   "source": [
    "if len(myFullName) >= 10 :\n",
    "    print(\"toolani\")\n",
    "else :\n",
    "    print('kootah')    "
   ]
  },
  {
   "cell_type": "code",
   "execution_count": 72,
   "id": "7e9a507b-d4db-4524-9212-4d742cdeea6b",
   "metadata": {},
   "outputs": [],
   "source": [
    "inputName = \"soroosh\""
   ]
  },
  {
   "cell_type": "code",
   "execution_count": 73,
   "id": "730665c9-02ed-4e44-821f-b54f26f3ede5",
   "metadata": {},
   "outputs": [
    {
     "name": "stdout",
     "output_type": "stream",
     "text": [
      "toolani\n"
     ]
    }
   ],
   "source": [
    "if len(inputName) <= 3:\n",
    "    print('kootah')\n",
    "elif len(inputName) >5 :\n",
    "    print('toolani')\n",
    "else :\n",
    "    print('motevaset')"
   ]
  },
  {
   "cell_type": "code",
   "execution_count": 74,
   "id": "242ce7e8-30a2-4570-a565-1e8181b0f8f2",
   "metadata": {},
   "outputs": [],
   "source": [
    "age = 15"
   ]
  },
  {
   "cell_type": "code",
   "execution_count": 75,
   "id": "5058830b-632d-43ae-8b25-cf94a502c553",
   "metadata": {},
   "outputs": [
    {
     "name": "stdout",
     "output_type": "stream",
     "text": [
      "senn4\n"
     ]
    }
   ],
   "source": [
    "if age > 20:\n",
    "    if age % 2 ==0:\n",
    "        print('senn')\n",
    "    elif age % 2 !=0 :\n",
    "        print('senn2')\n",
    "else :\n",
    "    if age % 2 == 0 :\n",
    "        print('senn3')\n",
    "    elif age % 2 != 0 :\n",
    "        print('senn4')"
   ]
  },
  {
   "cell_type": "markdown",
   "id": "d44f4324-d2f6-449e-831b-28e3a62b78fe",
   "metadata": {},
   "source": [
    "## halghe"
   ]
  },
  {
   "cell_type": "code",
   "execution_count": 77,
   "id": "8388aa67-0a84-4580-b422-19905f5c4588",
   "metadata": {},
   "outputs": [
    {
     "name": "stdout",
     "output_type": "stream",
     "text": [
      "3\n",
      "2\n",
      "1\n"
     ]
    }
   ],
   "source": [
    "tempint = 3\n",
    "while tempint > 0:\n",
    "    print(tempint)\n",
    "    tempint -= 1"
   ]
  },
  {
   "cell_type": "code",
   "execution_count": 78,
   "id": "724ef61f-6dc4-4710-97fc-6f644a745e52",
   "metadata": {},
   "outputs": [
    {
     "name": "stdout",
     "output_type": "stream",
     "text": [
      "0 1 1 2 3 5 8 13 21 34 55 89 "
     ]
    }
   ],
   "source": [
    "a, b = 0, 1\n",
    "while a < 100:\n",
    "    print(a, end=' ')\n",
    "    a, b = b, a + b"
   ]
  },
  {
   "cell_type": "markdown",
   "id": "8ce9a8fa-9fcf-4146-a8f2-9d93983ba65e",
   "metadata": {},
   "source": [
    "## check p is prime or not"
   ]
  },
  {
   "cell_type": "code",
   "execution_count": 80,
   "id": "032f55f8-beef-4b3c-9f47-d7c3d1036543",
   "metadata": {},
   "outputs": [
    {
     "name": "stdout",
     "output_type": "stream",
     "text": [
      "not\n"
     ]
    }
   ],
   "source": [
    "p = 18\n",
    "tempP = 2\n",
    "ayaAvalAst = True\n",
    "while tempP < p :\n",
    "    if p % tempP ==0:\n",
    "        ayaAvalAst = False\n",
    "        break\n",
    "    tempP += 1\n",
    "if ayaAvalAst:\n",
    "    print('prime')\n",
    "else :\n",
    "    print('not')"
   ]
  },
  {
   "cell_type": "markdown",
   "id": "2bf2aee3-631e-4c72-b9ef-b0d8a28eaad6",
   "metadata": {},
   "source": [
    "## n-th prime number"
   ]
  },
  {
   "cell_type": "markdown",
   "id": "e7e2746f-bf58-4157-a3c1-6ce065e35a4e",
   "metadata": {},
   "source": [
    "## For loop"
   ]
  },
  {
   "cell_type": "code",
   "execution_count": 83,
   "id": "bc80c4ac-0724-412b-9425-cb9b9c2a4f84",
   "metadata": {},
   "outputs": [
    {
     "name": "stdout",
     "output_type": "stream",
     "text": [
      "10\n"
     ]
    }
   ],
   "source": [
    "sum = 0\n",
    "for i in range(5):\n",
    "    sum += i\n",
    "print(sum)\n",
    "          "
   ]
  },
  {
   "cell_type": "code",
   "execution_count": 84,
   "id": "5f5dcc4f-9545-46f0-8d2d-312f19b077fb",
   "metadata": {},
   "outputs": [
    {
     "name": "stdout",
     "output_type": "stream",
     "text": [
      "120\n"
     ]
    }
   ],
   "source": [
    "n = 5\n",
    "sum1 = 1\n",
    "for i in range(n):\n",
    "    sum1 *= i+1\n",
    "print(sum1)"
   ]
  },
  {
   "cell_type": "code",
   "execution_count": 85,
   "id": "f48c371f-480d-4571-a035-2e7cb87618fa",
   "metadata": {},
   "outputs": [
    {
     "name": "stdout",
     "output_type": "stream",
     "text": [
      "120\n"
     ]
    }
   ],
   "source": [
    "n = 5\n",
    "sum2 = 1\n",
    "for i in range(2,n+1):\n",
    "    sum2 *= i\n",
    "print(sum2)"
   ]
  },
  {
   "cell_type": "code",
   "execution_count": 86,
   "id": "aa898805-7a9f-4857-900d-8ce291407793",
   "metadata": {},
   "outputs": [
    {
     "name": "stdout",
     "output_type": "stream",
     "text": [
      "2\n",
      "4\n",
      "6\n",
      "8\n"
     ]
    }
   ],
   "source": [
    "for i in range(2,9,2):\n",
    "    print(i)"
   ]
  },
  {
   "cell_type": "code",
   "execution_count": 87,
   "id": "ab8c97df-d7ed-4ac9-8478-029e3d76afdb",
   "metadata": {},
   "outputs": [
    {
     "name": "stdout",
     "output_type": "stream",
     "text": [
      "1\n",
      "2\n",
      "hop\n",
      "4\n",
      "5\n",
      "hop\n",
      "7\n",
      "8\n",
      "hop\n",
      "10\n",
      "11\n",
      "hop\n",
      "13\n",
      "14\n",
      "hop\n",
      "16\n",
      "17\n",
      "hop\n",
      "19\n",
      "20\n",
      "hop\n",
      "22\n",
      "23\n",
      "hop\n",
      "25\n"
     ]
    }
   ],
   "source": [
    "for i in range(1,26):\n",
    "    if i % 3 == 0:\n",
    "        print('hop')\n",
    "    else:\n",
    "        print(i)"
   ]
  },
  {
   "cell_type": "code",
   "execution_count": 88,
   "id": "e8936029-27ec-455f-8172-25ff34d27a56",
   "metadata": {},
   "outputs": [
    {
     "name": "stdout",
     "output_type": "stream",
     "text": [
      "1\n",
      "2\n",
      "hop\n",
      "4\n",
      "5\n",
      "hop\n",
      "7\n",
      "8\n",
      "hop\n",
      "10\n",
      "11\n",
      "hop\n",
      "13\n",
      "14\n",
      "hop\n",
      "16\n",
      "17\n",
      "hop\n",
      "19\n",
      "20\n",
      "hop\n",
      "22\n",
      "23\n",
      "hop\n",
      "25\n",
      "26\n"
     ]
    }
   ],
   "source": [
    "n =0\n",
    "while n<=25:\n",
    "    n += 1\n",
    "    if n % 3 ==0:\n",
    "        print('hop')\n",
    "    else:\n",
    "        print(n)\n",
    "    "
   ]
  },
  {
   "cell_type": "markdown",
   "id": "aa2c0105-492a-49ac-8a3a-d3dee37d8529",
   "metadata": {},
   "source": [
    "## list"
   ]
  },
  {
   "cell_type": "code",
   "execution_count": 90,
   "id": "ba18d625-caf6-4f73-aaaa-c6dbd5414b4f",
   "metadata": {},
   "outputs": [
    {
     "data": {
      "text/plain": [
       "3"
      ]
     },
     "execution_count": 90,
     "metadata": {},
     "output_type": "execute_result"
    }
   ],
   "source": [
    "templist = [35, 'Amir', 3.14]\n",
    "len(templist)"
   ]
  },
  {
   "cell_type": "code",
   "execution_count": 91,
   "id": "49aa305d-a9a9-4605-aeff-e70134c0d681",
   "metadata": {},
   "outputs": [
    {
     "data": {
      "text/plain": [
       "4"
      ]
     },
     "execution_count": 91,
     "metadata": {},
     "output_type": "execute_result"
    }
   ],
   "source": [
    "len(templist[1])"
   ]
  },
  {
   "cell_type": "code",
   "execution_count": 92,
   "id": "88521906-9639-4a8f-b0bb-5407547ab613",
   "metadata": {},
   "outputs": [
    {
     "data": {
      "text/plain": [
       "'r'"
      ]
     },
     "execution_count": 92,
     "metadata": {},
     "output_type": "execute_result"
    }
   ],
   "source": [
    "templist[1][3]"
   ]
  },
  {
   "cell_type": "code",
   "execution_count": 93,
   "id": "23d6a87c-b4b6-49ca-8770-d9288867436c",
   "metadata": {},
   "outputs": [
    {
     "data": {
      "text/plain": [
       "[35, 'Amir', 3.14, 2, 'programing', 2.71828]"
      ]
     },
     "execution_count": 93,
     "metadata": {},
     "output_type": "execute_result"
    }
   ],
   "source": [
    "templist += [2, 'programing', 2.71828]\n",
    "templist"
   ]
  },
  {
   "cell_type": "code",
   "execution_count": 94,
   "id": "f69986f6-c606-4360-9d7c-19a2834a27eb",
   "metadata": {},
   "outputs": [
    {
     "data": {
      "text/plain": [
       "[35, 'Amir', 3.14, 2, 'programing', 2.71828, 'Ali']"
      ]
     },
     "execution_count": 94,
     "metadata": {},
     "output_type": "execute_result"
    }
   ],
   "source": [
    "templist.append('Ali')\n",
    "templist"
   ]
  },
  {
   "cell_type": "code",
   "execution_count": 95,
   "id": "271b86c9-24f0-4fcc-81ee-8419c62cd4ee",
   "metadata": {},
   "outputs": [
    {
     "data": {
      "text/plain": [
       "[35, 3.14, 2, 'programing', 2.71828, 'Ali']"
      ]
     },
     "execution_count": 95,
     "metadata": {},
     "output_type": "execute_result"
    }
   ],
   "source": [
    "templist.pop(1)\n",
    "templist"
   ]
  },
  {
   "cell_type": "code",
   "execution_count": 96,
   "id": "72583e3b-15f4-49cf-8bd4-a0d95bb39e48",
   "metadata": {},
   "outputs": [
    {
     "data": {
      "text/plain": [
       "[21, 25, 32, 35]"
      ]
     },
     "execution_count": 96,
     "metadata": {},
     "output_type": "execute_result"
    }
   ],
   "source": [
    "ages = [32, 25, 35, 21]\n",
    "ages.sort()\n",
    "ages"
   ]
  },
  {
   "cell_type": "code",
   "execution_count": 97,
   "id": "8576c063-0cb3-491e-8d32-abf6c4c8ab76",
   "metadata": {},
   "outputs": [
    {
     "data": {
      "text/plain": [
       "[[1.2, 3], [4, 5, 6], [7, 8, 9]]"
      ]
     },
     "execution_count": 97,
     "metadata": {},
     "output_type": "execute_result"
    }
   ],
   "source": [
    "nestedArray = [[1.2,3],[4,5,6],[7,8,9]]\n",
    "nestedArray"
   ]
  },
  {
   "cell_type": "code",
   "execution_count": 98,
   "id": "8334a97e-b1da-4f4a-9f26-8c29023ab8fb",
   "metadata": {},
   "outputs": [],
   "source": [
    "myScores = [20, 13, 11, 17, 15, 4]"
   ]
  },
  {
   "cell_type": "code",
   "execution_count": 99,
   "id": "c117c61d-4ac4-4b91-82a2-db92630d07fa",
   "metadata": {},
   "outputs": [],
   "source": [
    "myCourses = ['math', 'history' , 'chemistery', 'ap','BP','physics']"
   ]
  },
  {
   "cell_type": "code",
   "execution_count": 100,
   "id": "dfd94749-7f88-4185-8aaf-2016cb1e104a",
   "metadata": {},
   "outputs": [
    {
     "name": "stdout",
     "output_type": "stream",
     "text": [
      "math : 20\n",
      "history : 13\n",
      "chemistery : 11\n",
      "ap : 17\n",
      "BP : 15\n",
      "physics : 4\n"
     ]
    }
   ],
   "source": [
    "for i in range(len(myScores)):\n",
    "    print(myCourses[i], ':', myScores[i])\n"
   ]
  },
  {
   "cell_type": "markdown",
   "id": "e4e5086a-7186-48c1-808b-bd0848f48ac6",
   "metadata": {},
   "source": [
    "## Q. Print courses that i passed in the decending orde"
   ]
  },
  {
   "cell_type": "code",
   "execution_count": 102,
   "id": "019aed21-6d6d-4500-a491-f93ed08284bf",
   "metadata": {},
   "outputs": [
    {
     "name": "stdout",
     "output_type": "stream",
     "text": [
      "math : 20\n",
      "ap : 17\n",
      "BP : 15\n",
      "history : 13\n",
      "chemistery : 11\n"
     ]
    }
   ],
   "source": [
    "passing_courses = [(myCourses[i], myScores[i]) for i in range(len(myScores)) if myScores[i] >= 10]\n",
    "passing_courses.sort(key=lambda x: x[1], reverse=True)\n",
    "for course, score in passing_courses:\n",
    "    print(course, ':', score)\n"
   ]
  },
  {
   "cell_type": "code",
   "execution_count": 103,
   "id": "eebf056e-919c-403c-8fab-9b26ac00a728",
   "metadata": {},
   "outputs": [
    {
     "name": "stdout",
     "output_type": "stream",
     "text": [
      "math=20\n",
      "history=13\n",
      "chemistery=11\n",
      "ap=17\n",
      "BP=15\n",
      "physics : Fale\n"
     ]
    }
   ],
   "source": [
    "for i in range(len(myScores)):\n",
    "    if myScores[i] >= 10:  \n",
    "        print(myCourses[i] + \"=\" + str(myScores[i]))\n",
    "    else:\n",
    "         print(myCourses[i] ,': Fale')"
   ]
  },
  {
   "cell_type": "markdown",
   "id": "8cc494a1-4d41-4911-a386-f0e86eb50aab",
   "metadata": {},
   "source": [
    "## dict\n"
   ]
  },
  {
   "cell_type": "code",
   "execution_count": 105,
   "id": "1f50cb52-3edc-415a-850f-2c0366e73064",
   "metadata": {},
   "outputs": [],
   "source": [
    "myProfile = {'name' : 'Soroosh Mosallanejad',\n",
    "          'age' : 19}\n"
   ]
  },
  {
   "cell_type": "code",
   "execution_count": 106,
   "id": "54fdb2d1-ff4c-40cd-97a7-ccba7ba22f48",
   "metadata": {},
   "outputs": [
    {
     "name": "stdout",
     "output_type": "stream",
     "text": [
      "Soroosh Mosallanejad\n"
     ]
    }
   ],
   "source": [
    "print(myProfile['name'])"
   ]
  },
  {
   "cell_type": "code",
   "execution_count": 107,
   "id": "30476666-c0e8-492c-8feb-bc96f714a635",
   "metadata": {},
   "outputs": [],
   "source": [
    "nameDict = {'firstName' : 'Soroosh',\n",
    "            'lastName' : 'Mosallanejad'}\n"
   ]
  },
  {
   "cell_type": "code",
   "execution_count": 108,
   "id": "e70d2224-9007-44ac-bb7f-d51c17876e45",
   "metadata": {},
   "outputs": [
    {
     "data": {
      "text/plain": [
       "{'firstName': 'Soroosh', 'lastName': 'Mosallanejad'}"
      ]
     },
     "execution_count": 108,
     "metadata": {},
     "output_type": "execute_result"
    }
   ],
   "source": [
    "nameDict"
   ]
  },
  {
   "cell_type": "code",
   "execution_count": 109,
   "id": "6cf02a9d-29bc-43c1-bee6-dce936662856",
   "metadata": {},
   "outputs": [],
   "source": [
    "myProfie = {'name' :nameDict,\n",
    "             'age' : 19}"
   ]
  },
  {
   "cell_type": "code",
   "execution_count": 110,
   "id": "cac19770-bee5-495a-9b5a-ef02cc77c833",
   "metadata": {},
   "outputs": [
    {
     "name": "stdout",
     "output_type": "stream",
     "text": [
      "Soroosh\n"
     ]
    }
   ],
   "source": [
    "print(myProfie['name']['firstName'])"
   ]
  },
  {
   "cell_type": "code",
   "execution_count": 111,
   "id": "25893c4f-6062-4752-852c-00dba20e1e66",
   "metadata": {},
   "outputs": [],
   "source": [
    "cities = ['Tehran', 'Boston', 'Shahrkord']"
   ]
  },
  {
   "cell_type": "code",
   "execution_count": 112,
   "id": "1326ba5b-23f6-4cd7-a4e7-5fad7232eb1c",
   "metadata": {},
   "outputs": [],
   "source": [
    "myProfile['cities'] = cities"
   ]
  },
  {
   "cell_type": "code",
   "execution_count": 113,
   "id": "12dd5455-70a4-401b-83d0-bcda0d0ab7f7",
   "metadata": {},
   "outputs": [
    {
     "name": "stdout",
     "output_type": "stream",
     "text": [
      "{'name': 'Soroosh Mosallanejad', 'age': 19, 'cities': ['Tehran', 'Boston', 'Shahrkord']}\n"
     ]
    }
   ],
   "source": [
    "print(myProfile)"
   ]
  },
  {
   "cell_type": "code",
   "execution_count": 114,
   "id": "c0f4acfa-c3d7-4c0a-951d-409ca04608e7",
   "metadata": {},
   "outputs": [
    {
     "name": "stdout",
     "output_type": "stream",
     "text": [
      "{'name': 'Soroosh Mosallanejad', 'age': 19, 'cities': ['Tehran', 'Boston', 'Shahrkord'], 'friends': [{'firstname': 'philip', 'lastName': 'fry', 'age': 35, 'id': 0}, {'firstName': 'bender', 'lastName': 'bending', 'age': 4, 'id': 1}]}\n"
     ]
    }
   ],
   "source": [
    "myProfile['friends'] = [{'firstname' : 'philip', 'lastName' : 'fry', 'age' :35, 'id' :0},\n",
    "                        {'firstName' : 'bender', 'lastName' : 'bending', 'age' : 4, 'id' :1}]\n",
    "print(myProfile)"
   ]
  },
  {
   "cell_type": "code",
   "execution_count": 115,
   "id": "38c1f04b-fc10-40a9-a4c8-5400fd64d961",
   "metadata": {},
   "outputs": [
    {
     "name": "stdout",
     "output_type": "stream",
     "text": [
      "[{'firstname': 'philip', 'lastName': 'fry', 'age': 35, 'id': 0}, {'firstName': 'bender', 'lastName': 'bending', 'age': 4, 'id': 1}, {'firstName': 'amy', 'lastName': 'wong', 'age': 30, 'id': 2}]\n"
     ]
    }
   ],
   "source": [
    "myProfile['friends'].append({'firstName' : 'amy','lastName':'wong', 'age': 30, 'id':2})\n",
    "print(myProfile['friends'])"
   ]
  },
  {
   "cell_type": "markdown",
   "id": "64b775c4-b52b-4630-aa8b-d9ddd9cbf231",
   "metadata": {},
   "source": [
    "## Q.print name of oldest friend and average age of your friends"
   ]
  },
  {
   "cell_type": "code",
   "execution_count": null,
   "id": "47569970-cec6-4e3a-9a7c-67b4daaeec49",
   "metadata": {},
   "outputs": [],
   "source": []
  },
  {
   "cell_type": "code",
   "execution_count": 117,
   "id": "1a2af0e9-461a-4e9d-9421-1054a8d75087",
   "metadata": {},
   "outputs": [
    {
     "data": {
      "text/plain": [
       "dict_keys(['name', 'age', 'cities', 'friends'])"
      ]
     },
     "execution_count": 117,
     "metadata": {},
     "output_type": "execute_result"
    }
   ],
   "source": [
    "myProfile.keys()"
   ]
  },
  {
   "cell_type": "code",
   "execution_count": 118,
   "id": "fb498b3f-1c41-4af1-85a8-264b9f2a7286",
   "metadata": {},
   "outputs": [
    {
     "data": {
      "text/plain": [
       "dict_values(['Soroosh Mosallanejad', 19, ['Tehran', 'Boston', 'Shahrkord'], [{'firstname': 'philip', 'lastName': 'fry', 'age': 35, 'id': 0}, {'firstName': 'bender', 'lastName': 'bending', 'age': 4, 'id': 1}, {'firstName': 'amy', 'lastName': 'wong', 'age': 30, 'id': 2}]])"
      ]
     },
     "execution_count": 118,
     "metadata": {},
     "output_type": "execute_result"
    }
   ],
   "source": [
    "myProfile.values()"
   ]
  },
  {
   "cell_type": "code",
   "execution_count": 119,
   "id": "943fc484-abe8-4334-a243-b6fa55fe9948",
   "metadata": {},
   "outputs": [
    {
     "name": "stdout",
     "output_type": "stream",
     "text": [
      "age vared shode\n"
     ]
    }
   ],
   "source": [
    "if 'age' in myProfile.keys():\n",
    "    print('age vared shode')\n",
    "else:\n",
    "    print('age ra vared kon')"
   ]
  },
  {
   "cell_type": "code",
   "execution_count": 120,
   "id": "05f134d9-f562-410a-bf0a-3a86ee20ad3c",
   "metadata": {},
   "outputs": [],
   "source": [
    "tempFile = open('myProfile', 'w')\n",
    "tempFile.write(str(myProfile))\n",
    "tempFile.close()"
   ]
  },
  {
   "cell_type": "code",
   "execution_count": 121,
   "id": "83ef69df-0366-4130-90cb-81b396c5b05e",
   "metadata": {},
   "outputs": [
    {
     "name": "stdout",
     "output_type": "stream",
     "text": [
      "<_io.TextIOWrapper name='myProfile' mode='w' encoding='cp1252'>\n"
     ]
    }
   ],
   "source": [
    "print(tempFile)"
   ]
  },
  {
   "cell_type": "code",
   "execution_count": 122,
   "id": "dc9590f0-d263-4193-9139-d0bc15a5f4c1",
   "metadata": {},
   "outputs": [
    {
     "data": {
      "text/plain": [
       "<function TextIOWrapper.close()>"
      ]
     },
     "execution_count": 122,
     "metadata": {},
     "output_type": "execute_result"
    }
   ],
   "source": [
    "amirFile = open('AmirProfile.txt', 'r')\n",
    "AmirProfile = amirFile.read()\n",
    "amirFile.close"
   ]
  },
  {
   "cell_type": "markdown",
   "id": "cff923d1-f93c-4052-9b98-d22eda63e0fe",
   "metadata": {},
   "source": [
    "## Functions"
   ]
  },
  {
   "cell_type": "code",
   "execution_count": 124,
   "id": "ec63d62f-480f-41e0-8723-ec6a77e0a44e",
   "metadata": {},
   "outputs": [],
   "source": [
    "def function_name(myInput):\n",
    "    #print(myInput)\n",
    "    return myInput * 2"
   ]
  },
  {
   "cell_type": "code",
   "execution_count": 125,
   "id": "06af4222-86dc-4c6c-9ea9-54a71b77ca98",
   "metadata": {},
   "outputs": [
    {
     "data": {
      "text/plain": [
       "'amiramir'"
      ]
     },
     "execution_count": 125,
     "metadata": {},
     "output_type": "execute_result"
    }
   ],
   "source": [
    "myFunctionValue = function_name('amir')\n",
    "myFunctionValue"
   ]
  },
  {
   "cell_type": "code",
   "execution_count": 126,
   "id": "ed066eeb-47e1-41c4-9d67-565c3d681345",
   "metadata": {},
   "outputs": [
    {
     "name": "stdout",
     "output_type": "stream",
     "text": [
      "0 1 1 2 3 5 8 13 21 34 55 89 144 233 377 610 987 1597 2584 4181 6765 10946 17711 28657 46368 75025 121393 196418 317811 514229 832040 1346269 2178309 3524578 5702887 9227465 14930352 24157817 39088169 63245986 102334155 165580141 267914296 433494437 701408733 1134903170 1836311903 2971215073 4807526976 7778742049 "
     ]
    }
   ],
   "source": [
    "def fib(n):\n",
    "    a = 0\n",
    "    b = 1\n",
    "    for i in range(n):\n",
    "        print(a, end=' ')\n",
    "        temp = a + b\n",
    "        a = b\n",
    "        b = temp\n",
    "fib(50)"
   ]
  },
  {
   "cell_type": "code",
   "execution_count": 231,
   "id": "ca1a82cb-e622-466b-ae84-c87c230e049b",
   "metadata": {},
   "outputs": [
    {
     "name": "stdout",
     "output_type": "stream",
     "text": [
      "SorooshSorooshSorooshSorooshSorooshSorooshSorooshSoroosh\n"
     ]
    }
   ],
   "source": [
    "n = 3\n",
    "mult = 1\n",
    "for i in range(n):\n",
    "        mult = mult * 2\n",
    "a = mult\n",
    "print(myName * a)"
   ]
  },
  {
   "cell_type": "code",
   "execution_count": 233,
   "id": "f5c1ebd3-d414-479c-bed8-9b6a058c6c74",
   "metadata": {},
   "outputs": [],
   "source": [
    "\n",
    "def power2(n):\n",
    "    mult = 1\n",
    "    for i in range(n):\n",
    "        mult = mult * 2\n",
    "    return mult\n",
    "    "
   ]
  },
  {
   "cell_type": "code",
   "execution_count": 235,
   "id": "cb4c74bc-ae3c-47ed-8a1e-8e5b2ccb5654",
   "metadata": {},
   "outputs": [
    {
     "data": {
      "text/plain": [
       "8"
      ]
     },
     "execution_count": 235,
     "metadata": {},
     "output_type": "execute_result"
    }
   ],
   "source": [
    "power2(3)"
   ]
  },
  {
   "cell_type": "markdown",
   "id": "134678e6-4f9c-4dbe-816f-929da0ac1b17",
   "metadata": {},
   "source": [
    "## Data\n"
   ]
  },
  {
   "cell_type": "code",
   "execution_count": null,
   "id": "9d8ab01a-8b86-4f08-aaad-4e8e01e99b1b",
   "metadata": {},
   "outputs": [],
   "source": []
  }
 ],
 "metadata": {
  "kernelspec": {
   "display_name": "Python 3 (ipykernel)",
   "language": "python",
   "name": "python3"
  },
  "language_info": {
   "codemirror_mode": {
    "name": "ipython",
    "version": 3
   },
   "file_extension": ".py",
   "mimetype": "text/x-python",
   "name": "python",
   "nbconvert_exporter": "python",
   "pygments_lexer": "ipython3",
   "version": "3.12.7"
  }
 },
 "nbformat": 4,
 "nbformat_minor": 5
}
